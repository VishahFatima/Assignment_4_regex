{
 "cells": [
  {
   "cell_type": "markdown",
   "id": "dbeb14e1",
   "metadata": {},
   "source": [
    "---\n",
    "\n",
    "## Advanced Regular Expression Assignments\n",
    "\n",
    "### Assignment 1: Extracting Phone Numbers\n",
    "\n",
    "**Raw Text:** \n",
    "Extract all valid Pakistani phone numbers from a given text.\n",
    "\n",
    "**Example:**\n",
    "```\n",
    "Text: Please contact me at 0301-1234567 or 042-35678901 for further details.\n",
    "```\n",
    "\n"
   ]
  },
  {
   "cell_type": "code",
   "execution_count": 2,
   "id": "b830b03e",
   "metadata": {
    "tags": []
   },
   "outputs": [],
   "source": [
    "import re"
   ]
  },
  {
   "cell_type": "code",
   "execution_count": 3,
   "id": "9cbc08f7-21f8-43af-bd07-11316bd3ceed",
   "metadata": {
    "tags": []
   },
   "outputs": [
    {
     "name": "stdout",
     "output_type": "stream",
     "text": [
      "['0301-1234567', '042-35678901']\n"
     ]
    }
   ],
   "source": [
    "txt = \"Please contact me at 0301-1234567 or 042-35678901 for further details.\"\n",
    "pattern = r\"(\\d{3,4}\\-\\d{7,8})\"\n",
    "numbers = re.findall(pattern, txt)\n",
    "print(numbers)"
   ]
  },
  {
   "cell_type": "markdown",
   "id": "dd34fb2f",
   "metadata": {},
   "source": [
    "### Assignment 2: Validating Email Addresses\n",
    "\n",
    "**Raw Text:** \n",
    "Validate email addresses according to Pakistani domain extensions (.pk).\n",
    "\n",
    "**Example:**\n",
    "```\n",
    "Text: Contact us at info@example.com or support@domain.pk for assistance.\n",
    "```\n",
    "\n"
   ]
  },
  {
   "cell_type": "code",
   "execution_count": 11,
   "id": "64cf6883",
   "metadata": {
    "tags": []
   },
   "outputs": [
    {
     "name": "stdout",
     "output_type": "stream",
     "text": [
      "['support@domain.pk']\n"
     ]
    }
   ],
   "source": [
    "txt2 = \"Contact us at info@example.com or support@domain.pk for assistance.\"\n",
    "pattern = r\"\\b([\\w\\-\\.]+@[\\w]+\\.pk)\\b\"\n",
    "email = re.findall(pattern, txt2)\n",
    "print(email)"
   ]
  },
  {
   "cell_type": "markdown",
   "id": "0bd2f6f3",
   "metadata": {},
   "source": [
    "### Assignment 3: Extracting CNIC Numbers\n",
    "\n",
    "**Raw Text:** \n",
    "Extract all Pakistani CNIC (Computerized National Identity Card) numbers from a given text.\n",
    "\n",
    "**Example:**\n",
    "```\n",
    "Text: My CNIC is 12345-6789012-3 and another one is 34567-8901234-5.\n",
    "```\n"
   ]
  },
  {
   "cell_type": "code",
   "execution_count": 17,
   "id": "a22f29ba-8be8-4c86-94b1-bd4d71b2ab49",
   "metadata": {
    "tags": []
   },
   "outputs": [
    {
     "name": "stdout",
     "output_type": "stream",
     "text": [
      "['12345-6789012-3', '34567-8901234-5']\n"
     ]
    }
   ],
   "source": [
    "txt = \"My CNIC is 12345-6789012-3 and another one is 34567-8901234-5.\"\n",
    "pattern = r'\\b(\\d{5}\\-\\d{7}\\-\\d)'\n",
    "CNIC = re.findall(pattern, txt)\n",
    "print(CNIC)"
   ]
  },
  {
   "cell_type": "markdown",
   "id": "f21a0a2f",
   "metadata": {},
   "source": [
    "\n",
    "### Assignment 4: Identifying Urdu Words\n",
    "\n",
    "**Raw Text:** \n",
    "Identify and extract Urdu words from a mixed English-Urdu text.\n",
    "\n",
    "**Example:**\n",
    "```\n",
    "Text: یہ sentence میں کچھ English words بھی ہیں۔\n",
    "```\n",
    "\n"
   ]
  },
  {
   "cell_type": "code",
   "execution_count": 3,
   "id": "b4263cfb",
   "metadata": {},
   "outputs": [
    {
     "data": {
      "text/plain": [
       "['یہ', 'میں', 'کچھ', 'بھی', 'ہیں']"
      ]
     },
     "execution_count": 3,
     "metadata": {},
     "output_type": "execute_result"
    }
   ],
   "source": [
    "text = \"\"\"\n",
    " یہ sentence میں کچھ English words بھی ہیں۔\n",
    "\"\"\"\n",
    "pattern = r\"\\b([^\\s\\-a-zA-Z]+\\b)\"\n",
    "\n",
    "a = re.findall(pattern, text, re.MULTILINE)\n",
    "a"
   ]
  },
  {
   "cell_type": "markdown",
   "id": "421405e8",
   "metadata": {},
   "source": [
    "### Assignment 5: Finding Dates\n",
    "\n",
    "**Raw Text:** \n",
    "Find and extract dates in the format DD-MM-YYYY from a given text.\n",
    "\n",
    "**Example:**\n",
    "```\n",
    "Text: The event will take place on 15-08-2023 and 23-09-2023.\n",
    "```\n",
    "\n"
   ]
  },
  {
   "cell_type": "code",
   "execution_count": 4,
   "id": "c2f9d8bf",
   "metadata": {},
   "outputs": [
    {
     "data": {
      "text/plain": [
       "['15-08-2023', '23-09-2023']"
      ]
     },
     "execution_count": 4,
     "metadata": {},
     "output_type": "execute_result"
    }
   ],
   "source": [
    "text = \"\"\"\n",
    "The event will be held on 15-08-2023 and 23-09-2023 respectively.\n",
    "\"\"\"\n",
    "pattern = r\"\\d{2}[-]\\d{2}[-]\\d{4}\"\n",
    "a = re.findall(pattern, text)\n",
    "a"
   ]
  },
  {
   "cell_type": "markdown",
   "id": "6b817815",
   "metadata": {},
   "source": [
    "### Assignment 6: Extracting URLs\n",
    "\n",
    "**Raw Text:** \n",
    "Extract all URLs from a text that belong to Pakistani domains.\n",
    "\n",
    "**Example:**\n",
    "```\n",
    "Text: Visit http://www.example.pk or https://website.com.pk for more information.\n",
    "```\n",
    "\n"
   ]
  },
  {
   "cell_type": "code",
   "execution_count": 6,
   "id": "c2ba10ac",
   "metadata": {},
   "outputs": [
    {
     "data": {
      "text/plain": [
       "['http://www.example.pk', 'https://website.com.pk']"
      ]
     },
     "execution_count": 6,
     "metadata": {},
     "output_type": "execute_result"
    }
   ],
   "source": [
    "text = \"\"\"\n",
    "Visit http://www.example.pk or https://website.com.pk for more information.\n",
    "\"\"\"\n",
    "pattern = r\"\\b([https://]+[\\w]+\\.[\\w]+.pk)\\b\"\n",
    "\n",
    "url_pk = re.findall(pattern, text, re.MULTILINE)\n",
    "url_pk"
   ]
  },
  {
   "cell_type": "markdown",
   "id": "7ff1dc07",
   "metadata": {},
   "source": [
    "### Assignment 7: Analyzing Currency\n",
    "\n",
    "**Raw Text:** \n",
    "Extract and analyze currency amounts in Pakistani Rupees (PKR) from a given text.\n",
    "\n",
    "**Example:**\n",
    "```\n",
    "Text: The product costs PKR 1500, while the deluxe version is priced at Rs. 2500.\n",
    "```\n",
    "\n"
   ]
  },
  {
   "cell_type": "code",
   "execution_count": 7,
   "id": "28769652",
   "metadata": {},
   "outputs": [
    {
     "data": {
      "text/plain": [
       "['1500', '2500']"
      ]
     },
     "execution_count": 7,
     "metadata": {},
     "output_type": "execute_result"
    }
   ],
   "source": [
    "text= \"\"\"\n",
    "The product costs PKR 1500, while the deluxe version is priced at Rs. 2500.\n",
    "\"\"\"\n",
    "pattern = r\"\\b(?:[PKRs]+\\.?\\s(\\d{4}))\"\n",
    "\n",
    "rupees = re.findall(pattern,text,re.MULTILINE)\n",
    "rupees"
   ]
  },
  {
   "cell_type": "markdown",
   "id": "651c8b5d",
   "metadata": {},
   "source": [
    "### Assignment 8: Removing Punctuation\n",
    "\n",
    "**Raw Text:** \n",
    "Remove all punctuation marks from a text while preserving Urdu characters.\n",
    "\n",
    "**Example:**\n",
    "```\n",
    "Text: کیا! آپ, یہاں؟\n",
    "```\n",
    "\n"
   ]
  },
  {
   "cell_type": "code",
   "execution_count": 8,
   "id": "96350bf0",
   "metadata": {},
   "outputs": [
    {
     "data": {
      "text/plain": [
       "['کیا', 'آپ', 'یہاں']"
      ]
     },
     "execution_count": 8,
     "metadata": {},
     "output_type": "execute_result"
    }
   ],
   "source": [
    "text=\"\"\"\n",
    "کیا! آپ, یہاں؟\n",
    "\"\"\"\n",
    "pattern = r\"\\b([^\\W]+)\"\n",
    "\n",
    "urdu_without_punctuation = re.findall(pattern,text,re.MULTILINE)\n",
    "urdu_without_punctuation"
   ]
  },
  {
   "cell_type": "markdown",
   "id": "8cc27684",
   "metadata": {},
   "source": [
    "### Assignment 9: Extracting City Names\n",
    "\n",
    "**Raw Text:** \n",
    "Extract names of Pakistani cities from a given text.\n",
    "\n",
    "**Example:**\n",
    "```\n",
    "Text: Lahore, Karachi, Islamabad, and Peshawar are major cities of Pakistan.\n",
    "```\n"
   ]
  },
  {
   "cell_type": "code",
   "execution_count": 9,
   "id": "a81035ed",
   "metadata": {},
   "outputs": [
    {
     "data": {
      "text/plain": [
       "[('Lahore', 'Karachi', 'Islamabad', 'Peshawar')]"
      ]
     },
     "execution_count": 9,
     "metadata": {},
     "output_type": "execute_result"
    }
   ],
   "source": [
    "text = \"\"\"\n",
    "Lahore, Karachi, Islamabad, and Peshawar are major cities of Pakistan.\n",
    "\"\"\"\n",
    "pattern = r\"\\b(?:([\\w]+)\\,\\s([\\w]+)\\,\\s([\\w]+)\\,\\sand\\s([\\w]+))\\b\"\n",
    "\n",
    "city_pakistan = re.findall(pattern,text,re.MULTILINE)\n",
    "city_pakistan"
   ]
  },
  {
   "cell_type": "markdown",
   "id": "219b6c4c",
   "metadata": {},
   "source": [
    "\n",
    "### Assignment 10: Analyzing Vehicle Numbers\n",
    "\n",
    "**Raw Text:** \n",
    "Identify and extract Pakistani vehicle registration numbers (e.g., ABC-123) from a text.\n",
    "\n",
    "**Example:**\n",
    "```\n",
    "Text: I saw a car with the number plate LEA-567 near the market.\n",
    "```\n",
    "\n"
   ]
  },
  {
   "cell_type": "code",
   "execution_count": 10,
   "id": "33e1e5ba",
   "metadata": {},
   "outputs": [
    {
     "data": {
      "text/plain": [
       "['LEA-567']"
      ]
     },
     "execution_count": 10,
     "metadata": {},
     "output_type": "execute_result"
    }
   ],
   "source": [
    "text = \"\"\"\n",
    "I saw a car with the number plate LEA-567 near the market.\n",
    "\"\"\"\n",
    "pattern = r\"\\b(\\D{3}\\-\\d{3})\\b\"\n",
    "\n",
    "registeration_number = re.findall(pattern,text,re.MULTILINE)\n",
    "registeration_number"
   ]
  },
  {
   "cell_type": "code",
   "execution_count": null,
   "id": "1b80ec89-d562-458c-84fa-622864cf159b",
   "metadata": {},
   "outputs": [],
   "source": []
  }
 ],
 "metadata": {
  "kernelspec": {
   "display_name": "Python 3 (ipykernel)",
   "language": "python",
   "name": "python3"
  },
  "language_info": {
   "codemirror_mode": {
    "name": "ipython",
    "version": 3
   },
   "file_extension": ".py",
   "mimetype": "text/x-python",
   "name": "python",
   "nbconvert_exporter": "python",
   "pygments_lexer": "ipython3",
   "version": "3.11.3"
  }
 },
 "nbformat": 4,
 "nbformat_minor": 5
}
